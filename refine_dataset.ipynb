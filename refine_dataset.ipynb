{
 "cells": [
  {
   "cell_type": "code",
   "execution_count": 2,
   "metadata": {},
   "outputs": [],
   "source": [
    "exp_name = 'sexy_v3'\n",
    "dataset_root = \"/root/dataset\"\n",
    "training_root = \"GPT-SoVITS/logs\"\n",
    "inp_text = f\"{dataset_root}/{exp_name}/tts_annotation.list\"\n",
    "output_dir = f\"{training_root}/{exp_name}\""
   ]
  },
  {
   "cell_type": "code",
   "execution_count": null,
   "metadata": {},
   "outputs": [
    {
     "name": "stdout",
     "output_type": "stream",
     "text": [
      "Total 8722 lines in /root/dataset/sexy_v3/tts_annotation.list\n"
     ]
    }
   ],
   "source": [
    "import torchaudio\n",
    "with open(inp_text, 'r') as f:\n",
    "    lines = f.readlines()\n",
    "    print(f\"Total {len(lines)} lines in {inp_text}\")\n",
    "\n",
    "total_duration = 0\n",
    "for line in lines:\n",
    "    audio_path, speaker_name, language, text = line.split('|')\n",
    "    audio, sr = torchaudio.load(audio_path)\n",
    "    audio_duration = len(audio[1]) / sr\n",
    "    total_duration += audio_duration\n",
    "\n",
    "print(f\"Total duration: {total_duration} seconds\")\n",
    "    \n"
   ]
  }
 ],
 "metadata": {
  "kernelspec": {
   "display_name": "Python 3",
   "language": "python",
   "name": "python3"
  },
  "language_info": {
   "codemirror_mode": {
    "name": "ipython",
    "version": 3
   },
   "file_extension": ".py",
   "mimetype": "text/x-python",
   "name": "python",
   "nbconvert_exporter": "python",
   "pygments_lexer": "ipython3",
   "version": "3.10.12"
  }
 },
 "nbformat": 4,
 "nbformat_minor": 2
}
